{
 "cells": [
  {
   "cell_type": "code",
   "execution_count": 2,
   "id": "c369fc84",
   "metadata": {},
   "outputs": [
    {
     "name": "stdout",
     "output_type": "stream",
     "text": [
      "30\n"
     ]
    }
   ],
   "source": [
    "x=10\n",
    "y=20\n",
    "z=x+y\n",
    "print(z)"
   ]
  },
  {
   "cell_type": "code",
   "execution_count": 5,
   "id": "64434fd5",
   "metadata": {},
   "outputs": [
    {
     "name": "stdout",
     "output_type": "stream",
     "text": [
      "arshiya\n",
      "ARSHIYA\n"
     ]
    }
   ],
   "source": [
    "name1=('arshiya')\n",
    "print(name1)\n",
    "print(name1.upper())"
   ]
  },
  {
   "cell_type": "code",
   "execution_count": 7,
   "id": "9a0b74ac",
   "metadata": {},
   "outputs": [
    {
     "name": "stdout",
     "output_type": "stream",
     "text": [
      "KATE WINSLOT\n",
      "kate winslot\n"
     ]
    }
   ],
   "source": [
    "fullname='kate winslot'\n",
    "print(fullname.upper())\n",
    "print(fullname.lower())"
   ]
  },
  {
   "cell_type": "code",
   "execution_count": null,
   "id": "f2a56ee9",
   "metadata": {},
   "outputs": [],
   "source": [
    "#f strings\n",
    "\n"
   ]
  },
  {
   "cell_type": "code",
   "execution_count": 35,
   "id": "df3c6f66",
   "metadata": {},
   "outputs": [
    {
     "ename": "SyntaxError",
     "evalue": "invalid syntax (2711724752.py, line 4)",
     "output_type": "error",
     "traceback": [
      "\u001b[1;36m  Input \u001b[1;32mIn [35]\u001b[1;36m\u001b[0m\n\u001b[1;33m    print(full_name.tittle[])\u001b[0m\n\u001b[1;37m                           ^\u001b[0m\n\u001b[1;31mSyntaxError\u001b[0m\u001b[1;31m:\u001b[0m invalid syntax\n"
     ]
    }
   ],
   "source": [
    "first_name='harry'\n",
    "last_name='potter'\n",
    "fullname= f\"{first_name}{last_name}\"\n",
    "print(full_name.tittle())"
   ]
  },
  {
   "cell_type": "code",
   "execution_count": 33,
   "id": "bb86b0b1",
   "metadata": {},
   "outputs": [
    {
     "name": "stdout",
     "output_type": "stream",
     "text": [
      "  harry\n"
     ]
    },
    {
     "ename": "AttributeError",
     "evalue": "'str' object has no attribute 'Lstrip'",
     "output_type": "error",
     "traceback": [
      "\u001b[1;31m---------------------------------------------------------------------------\u001b[0m",
      "\u001b[1;31mAttributeError\u001b[0m                            Traceback (most recent call last)",
      "Input \u001b[1;32mIn [33]\u001b[0m, in \u001b[0;36m<cell line: 3>\u001b[1;34m()\u001b[0m\n\u001b[0;32m      1\u001b[0m name2\u001b[38;5;241m=\u001b[39m\u001b[38;5;124m'\u001b[39m\u001b[38;5;124m  harry\u001b[39m\u001b[38;5;124m'\u001b[39m\n\u001b[0;32m      2\u001b[0m \u001b[38;5;28mprint\u001b[39m(name2)\n\u001b[1;32m----> 3\u001b[0m \u001b[43mname2\u001b[49m\u001b[38;5;241;43m.\u001b[39;49m\u001b[43mLstrip\u001b[49m()\n",
      "\u001b[1;31mAttributeError\u001b[0m: 'str' object has no attribute 'Lstrip'"
     ]
    }
   ],
   "source": [
    "name2='  harry'\n",
    "print(name2)\n",
    "name2.Lstrip()"
   ]
  },
  {
   "cell_type": "code",
   "execution_count": 22,
   "id": "c4ec9d5f",
   "metadata": {},
   "outputs": [
    {
     "name": "stdout",
     "output_type": "stream",
     "text": [
      "  andy   \n"
     ]
    },
    {
     "data": {
      "text/plain": [
       "'andy'"
      ]
     },
     "execution_count": 22,
     "metadata": {},
     "output_type": "execute_result"
    }
   ],
   "source": [
    "name='  andy   '\n",
    "print(name)\n",
    "name.strip()"
   ]
  },
  {
   "cell_type": "code",
   "execution_count": 40,
   "id": "e5926dec",
   "metadata": {},
   "outputs": [
    {
     "name": "stdout",
     "output_type": "stream",
     "text": [
      "['  andy', 'hover', '  macron', 'arif', 'anas']\n",
      "  andy\n",
      "anas\n"
     ]
    }
   ],
   "source": [
    "students=['  andy','hover','  macron','arif','anas']\n",
    "print(students)\n",
    "name2.lstrip('macron')\n",
    "name1.lstrip()\n",
    "print(students[0])\n",
    "print(students[4])\n"
   ]
  },
  {
   "cell_type": "code",
   "execution_count": 47,
   "id": "74cf5d4b",
   "metadata": {},
   "outputs": [
    {
     "name": "stdout",
     "output_type": "stream",
     "text": [
      "['andy', 'hover', 'macron', 'arif', 'anas', 'lolly']\n",
      "['andy', 'hover', 'macron', 'arif', 'anas', 'lolly', 'mastrew']\n",
      "['andy', 'mastero', 'hover', 'macron', 'arif', 'anas', 'lolly', 'mastrew']\n"
     ]
    }
   ],
   "source": [
    "students=['andy','hover','macron','arif','anas']\n",
    "students.append('lolly')\n",
    "print(students)\n",
    "students.append('mastrew')\n",
    "print(students)\n",
    "students.insert(1,'mastero')\n",
    "print(students)"
   ]
  },
  {
   "cell_type": "code",
   "execution_count": null,
   "id": "d78708b9",
   "metadata": {},
   "outputs": [],
   "source": []
  }
 ],
 "metadata": {
  "kernelspec": {
   "display_name": "Python 3 (ipykernel)",
   "language": "python",
   "name": "python3"
  },
  "language_info": {
   "codemirror_mode": {
    "name": "ipython",
    "version": 3
   },
   "file_extension": ".py",
   "mimetype": "text/x-python",
   "name": "python",
   "nbconvert_exporter": "python",
   "pygments_lexer": "ipython3",
   "version": "3.9.12"
  }
 },
 "nbformat": 4,
 "nbformat_minor": 5
}
